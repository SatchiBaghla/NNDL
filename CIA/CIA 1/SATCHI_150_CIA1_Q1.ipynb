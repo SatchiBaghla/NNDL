{
 "cells": [
  {
   "cell_type": "markdown",
   "metadata": {},
   "source": [
    "Question 1: XOR Gate Classification<br>\n",
    "II. Implement the following:<br>\n",
    "(Implementation 5 marks and Visualization and documentation 5 marks)<br>\n",
    "<br>\n",
    "• Scenario: The XOR gate is known for its complexity, as it outputs 1 only when the inputs are different.<br>\n",
    "This is a challenge for a Single Layer Perceptron since XOR is not linearly separable.<br>\n",
    "<br>\n",
    "• Lab Task: Attempt to implement a Single Layer Perceptron in Google Colab to classify the output of an XOR gate. Perform the following steps:<br>\n",
    "• Create the XOR gate's truth table dataset.<br>\n",
    "• Implement the perceptron model and train it using the XOR dataset using MCP (McCulloch Pitts) Neuron.<br>\n",
    "• Observe and discuss the perceptron's performance in this scenario.<br>\n",
    "• Implement XOR using Multi-Layer Perceptron.<br>"
   ]
  },
  {
   "cell_type": "markdown",
   "metadata": {},
   "source": [
    "Introduction to XOR Classification Using Neural Networks<br>\n",
    "<br>\n",
    "Overview: The XOR gate is a classic problem in machine learning and neural networks due to its non-linearly separable nature. A Single Layer Perceptron fails to classify XOR outputs correctly because it can only handle linearly separable problems. In contrast, a Multi-Layer Perceptron (MLP) can solve XOR by learning non-linear patterns through hidden layers.<br>\n",
    "<br>\n",
    "Objective: The aim of this lab test is to:\n",
    "1. Implement a Single Layer Perceptron to classify XOR outputs.<br>\n",
    "2. Analyze its limitations.<br>\n",
    "3. Implement a Multi-Layer Perceptron to solve the XOR problem.<br>\n",
    "4. Visualize the decision boundaries and training loss.<br>"
   ]
  },
  {
   "cell_type": "markdown",
   "metadata": {},
   "source": [
    "1. Create XOR's Truth Table Dataset\n",
    "<br>\n",
    "The XOR gate is a binary gate that outputs 1 only when the two inputs are different.<br>\n",
    "\n",
    "| Input A | Input B | XOR Output |\n",
    "|---------|---------|------------|\n",
    "|    0    |    0    |     0      |\n",
    "|    0    |    1    |     1      |\n",
    "|    1    |    0    |     1      |\n",
    "|    1    |    1    |     0      |"
   ]
  },
  {
   "cell_type": "code",
   "execution_count": 1,
   "metadata": {},
   "outputs": [],
   "source": [
    "import numpy as np\n",
    "\n",
    "# XOR truth table\n",
    "X = np.array([[0, 0],\n",
    "              [0, 1],\n",
    "              [1, 0],\n",
    "              [1, 1]])\n",
    "\n",
    "# XOR outputs\n",
    "y = np.array([0, 1, 1, 0])\n"
   ]
  },
  {
   "cell_type": "markdown",
   "metadata": {},
   "source": [
    "2. Implement Single Layer Perceptron Using MCP Neuron<br>\n",
    "<br>\n",
    "Concept: A Single Layer Perceptron consists of an input layer and an output neuron. It uses a linear combination of the input features and applies a step function to predict binary outputs. However, a perceptron can only learn linearly separable patterns.<br>\n",
    "<br>\n",
    "Implementation: The perceptron is implemented without relying on pre-built libraries. The weights and biases are initialized and updated based on the difference between the predicted and actual outputs during training."
   ]
  },
  {
   "cell_type": "code",
   "execution_count": 2,
   "metadata": {},
   "outputs": [
    {
     "name": "stdout",
     "output_type": "stream",
     "text": [
      "Epoch 1: Weights: [-0.1  0. ], Bias: -0.1\n",
      "Epoch 2: Weights: [-0.1  0. ], Bias: 0.0\n",
      "Epoch 3: Weights: [-0.1  0. ], Bias: 0.0\n",
      "Epoch 4: Weights: [-0.1  0. ], Bias: 0.0\n",
      "Epoch 5: Weights: [-0.1  0. ], Bias: 0.0\n",
      "Epoch 6: Weights: [-0.1  0. ], Bias: 0.0\n",
      "Epoch 7: Weights: [-0.1  0. ], Bias: 0.0\n",
      "Epoch 8: Weights: [-0.1  0. ], Bias: 0.0\n",
      "Epoch 9: Weights: [-0.1  0. ], Bias: 0.0\n",
      "Epoch 10: Weights: [-0.1  0. ], Bias: 0.0\n"
     ]
    }
   ],
   "source": [
    "# Define the activation function (step function)\n",
    "def step_function(x):\n",
    "    return 1 if x >= 0 else 0\n",
    "\n",
    "# Single Layer Perceptron\n",
    "def perceptron_train(X, y, epochs=10, lr=0.1):\n",
    "    # Initialize weights and bias\n",
    "    weights = np.zeros(X.shape[1])\n",
    "    bias = 0\n",
    "    \n",
    "    for epoch in range(epochs):\n",
    "        for i in range(len(X)):\n",
    "            linear_output = np.dot(X[i], weights) + bias\n",
    "            prediction = step_function(linear_output)\n",
    "            \n",
    "            # Update rule: w = w + lr * (y - pred) * x\n",
    "            weights += lr * (y[i] - prediction) * X[i]\n",
    "            bias += lr * (y[i] - prediction)\n",
    "        \n",
    "        # Optionally, print weights and bias to observe the learning process\n",
    "        print(f\"Epoch {epoch+1}: Weights: {weights}, Bias: {bias}\")\n",
    "    \n",
    "    return weights, bias\n",
    "\n",
    "# Training the perceptron\n",
    "weights, bias = perceptron_train(X, y)\n"
   ]
  },
  {
   "cell_type": "markdown",
   "metadata": {},
   "source": [
    "Test the Perceptron"
   ]
  },
  {
   "cell_type": "code",
   "execution_count": 3,
   "metadata": {},
   "outputs": [
    {
     "name": "stdout",
     "output_type": "stream",
     "text": [
      "Predictions: [1, 1, 0, 0]\n"
     ]
    }
   ],
   "source": [
    "def perceptron_predict(X, weights, bias):\n",
    "    predictions = []\n",
    "    for x in X:\n",
    "        linear_output = np.dot(x, weights) + bias\n",
    "        predictions.append(step_function(linear_output))\n",
    "    return predictions\n",
    "\n",
    "# Predict on the XOR dataset\n",
    "predictions = perceptron_predict(X, weights, bias)\n",
    "print(\"Predictions:\", predictions)\n"
   ]
  },
  {
   "cell_type": "markdown",
   "metadata": {},
   "source": [
    "Explanation: This function trains a single-layer perceptron using a step function to classify XOR outputs. It updates the weights and bias using the perceptron learning rule. However, due to XOR’s non-linearity, this model will fail to classify XOR correctly, which we will discuss further in the results section."
   ]
  },
  {
   "cell_type": "markdown",
   "metadata": {},
   "source": [
    "3. Performance Analysis of the Single Layer Perceptron<br>\n",
    "<br>\n",
    "Observation: A Single Layer Perceptron struggles to classify XOR because the XOR problem is not linearly separable. The decision boundary generated by the perceptron will be linear, and thus, it cannot correctly separate the data points for the XOR gate.<br>\n",
    "<br>\n",
    "When the model is tested, it will misclassify at least one input combination, often predicting outputs like [0, 0, 0, 0] or [1, 1, 1, 1]. And here predictions are: [1,1,0,0].<br>\n",
    "<br>\n",
    "Conclusion: The Single Layer Perceptron is insufficient for solving non-linear problems like XOR. This highlights the need for a more complex model capable of learning non-linear decision boundaries, such as the Multi-Layer Perceptron.<br>"
   ]
  },
  {
   "cell_type": "markdown",
   "metadata": {},
   "source": [
    "4. Implement XOR Using Multi-Layer Perceptron (MLP)<br>\n",
    "<br>\n",
    "Concept: A Multi-Layer Perceptron introduces hidden layers, allowing the model to learn non-linear patterns. The MLP uses a sigmoid activation function in the hidden layer and output layer to model complex relationships between inputs and outputs.<br>\n",
    "<br>\n",
    "Implementation: The following code trains an MLP with one hidden layer of 2 neurons, which is sufficient to solve the XOR problem:"
   ]
  },
  {
   "cell_type": "code",
   "execution_count": 4,
   "metadata": {},
   "outputs": [
    {
     "name": "stdout",
     "output_type": "stream",
     "text": [
      "Epoch 0, Loss: 0.49970187910871167\n",
      "Epoch 1000, Loss: 0.4996995090256889\n",
      "Epoch 2000, Loss: 0.49819105799928537\n",
      "Epoch 3000, Loss: 0.48302460749663123\n",
      "Epoch 4000, Loss: 0.41627202394127505\n",
      "Epoch 5000, Loss: 0.3253706342179714\n",
      "Epoch 6000, Loss: 0.1678195681202969\n",
      "Epoch 7000, Loss: 0.10955529478216153\n",
      "Epoch 8000, Loss: 0.08455596607016312\n",
      "Epoch 9000, Loss: 0.07053888527765591\n",
      "MLP Predictions: [0. 1. 1. 0.]\n"
     ]
    }
   ],
   "source": [
    "# Sigmoid activation function\n",
    "def sigmoid(x):\n",
    "    return 1 / (1 + np.exp(-x))\n",
    "\n",
    "# Derivative of sigmoid for backpropagation\n",
    "def sigmoid_derivative(x):\n",
    "    return x * (1 - x)\n",
    "\n",
    "# Multi-Layer Perceptron\n",
    "def mlp_train(X, y, epochs=10000, lr=0.1):\n",
    "    # Initialize weights\n",
    "    input_layer_neurons = X.shape[1]  # Number of features (2 for XOR)\n",
    "    hidden_layer_neurons = 2          # We use 2 hidden neurons\n",
    "    output_neuron = 1                 # Output layer has 1 neuron\n",
    "\n",
    "    # Random weight initialization\n",
    "    np.random.seed(1)\n",
    "    hidden_weights = np.random.uniform(size=(input_layer_neurons, hidden_layer_neurons))\n",
    "    hidden_bias = np.random.uniform(size=(1, hidden_layer_neurons))\n",
    "    output_weights = np.random.uniform(size=(hidden_layer_neurons, output_neuron))\n",
    "    output_bias = np.random.uniform(size=(1, output_neuron))\n",
    "\n",
    "    # Training process\n",
    "    for epoch in range(epochs):\n",
    "        # Forward propagation\n",
    "        hidden_layer_input = np.dot(X, hidden_weights) + hidden_bias\n",
    "        hidden_layer_output = sigmoid(hidden_layer_input)\n",
    "\n",
    "        output_layer_input = np.dot(hidden_layer_output, output_weights) + output_bias\n",
    "        predicted_output = sigmoid(output_layer_input)\n",
    "\n",
    "        # Backpropagation\n",
    "        error = y - predicted_output\n",
    "        d_predicted_output = error * sigmoid_derivative(predicted_output)\n",
    "\n",
    "        error_hidden_layer = d_predicted_output.dot(output_weights.T)\n",
    "        d_hidden_layer = error_hidden_layer * sigmoid_derivative(hidden_layer_output)\n",
    "\n",
    "        # Updating weights and biases\n",
    "        output_weights += hidden_layer_output.T.dot(d_predicted_output) * lr\n",
    "        output_bias += np.sum(d_predicted_output, axis=0, keepdims=True) * lr\n",
    "        hidden_weights += X.T.dot(d_hidden_layer) * lr\n",
    "        hidden_bias += np.sum(d_hidden_layer, axis=0, keepdims=True) * lr\n",
    "\n",
    "        if epoch % 1000 == 0:\n",
    "            print(f\"Epoch {epoch}, Loss: {np.mean(np.abs(error))}\")\n",
    "    \n",
    "    return hidden_weights, hidden_bias, output_weights, output_bias\n",
    "\n",
    "# Train the MLP\n",
    "hidden_weights, hidden_bias, output_weights, output_bias = mlp_train(X, y.reshape(-1, 1))\n",
    "\n",
    "# Predict using MLP\n",
    "def mlp_predict(X, hidden_weights, hidden_bias, output_weights, output_bias):\n",
    "    hidden_layer_input = np.dot(X, hidden_weights) + hidden_bias\n",
    "    hidden_layer_output = sigmoid(hidden_layer_input)\n",
    "\n",
    "    output_layer_input = np.dot(hidden_layer_output, output_weights) + output_bias\n",
    "    predicted_output = sigmoid(output_layer_input)\n",
    "    \n",
    "    return np.round(predicted_output)\n",
    "\n",
    "# Predictions\n",
    "mlp_predictions = mlp_predict(X, hidden_weights, hidden_bias, output_weights, output_bias)\n",
    "print(\"MLP Predictions:\", mlp_predictions.flatten())\n"
   ]
  },
  {
   "cell_type": "markdown",
   "metadata": {},
   "source": [
    "Explanation: This MLP implementation uses backpropagation to adjust the weights and biases, learning non-linear patterns. The loss is computed and minimized using the sigmoid derivative."
   ]
  },
  {
   "cell_type": "markdown",
   "metadata": {},
   "source": [
    "5. Visualization"
   ]
  },
  {
   "cell_type": "markdown",
   "metadata": {},
   "source": [
    "5.1. Training Loss over Epochs"
   ]
  },
  {
   "cell_type": "code",
   "execution_count": 5,
   "metadata": {},
   "outputs": [
    {
     "data": {
      "image/png": "[encoded data removed]",
      "text/plain": [
       "<Figure size 640x480 with 1 Axes>"
      ]
     },
     "metadata": {},
     "output_type": "display_data"
    }
   ],
   "source": [
    "import matplotlib.pyplot as plt\n",
    "\n",
    "def mlp_train_with_loss(X, y, epochs=10000, lr=0.1):\n",
    "    input_layer_neurons = X.shape[1]\n",
    "    hidden_layer_neurons = 2\n",
    "    output_neuron = 1\n",
    "\n",
    "    np.random.seed(1)\n",
    "    hidden_weights = np.random.uniform(size=(input_layer_neurons, hidden_layer_neurons))\n",
    "    hidden_bias = np.random.uniform(size=(1, hidden_layer_neurons))\n",
    "    output_weights = np.random.uniform(size=(hidden_layer_neurons, output_neuron))\n",
    "    output_bias = np.random.uniform(size=(1, output_neuron))\n",
    "\n",
    "    loss_history = []\n",
    "\n",
    "    for epoch in range(epochs):\n",
    "        hidden_layer_input = np.dot(X, hidden_weights) + hidden_bias\n",
    "        hidden_layer_output = sigmoid(hidden_layer_input)\n",
    "\n",
    "        output_layer_input = np.dot(hidden_layer_output, output_weights) + output_bias\n",
    "        predicted_output = sigmoid(output_layer_input)\n",
    "\n",
    "        error = y - predicted_output\n",
    "        loss = np.mean(np.abs(error))\n",
    "        loss_history.append(loss)\n",
    "\n",
    "        d_predicted_output = error * sigmoid_derivative(predicted_output)\n",
    "        error_hidden_layer = d_predicted_output.dot(output_weights.T)\n",
    "        d_hidden_layer = error_hidden_layer * sigmoid_derivative(hidden_layer_output)\n",
    "\n",
    "        output_weights += hidden_layer_output.T.dot(d_predicted_output) * lr\n",
    "        output_bias += np.sum(d_predicted_output, axis=0, keepdims=True) * lr\n",
    "        hidden_weights += X.T.dot(d_hidden_layer) * lr\n",
    "        hidden_bias += np.sum(d_hidden_layer, axis=0, keepdims=True) * lr\n",
    "\n",
    "    return hidden_weights, hidden_bias, output_weights, output_bias, loss_history\n",
    "\n",
    "# Train MLP and capture the loss history\n",
    "hidden_weights, hidden_bias, output_weights, output_bias, loss_history = mlp_train_with_loss(X, y.reshape(-1, 1))\n",
    "\n",
    "# Plot loss over epochs\n",
    "plt.plot(loss_history)\n",
    "plt.title('MLP Training Loss Over Epochs')\n",
    "plt.xlabel('Epochs')\n",
    "plt.ylabel('Loss')\n",
    "plt.grid(True)\n",
    "plt.show()\n"
   ]
  },
  {
   "cell_type": "markdown",
   "metadata": {},
   "source": [
    "Explanation: As the epochs increase, the loss decreases, indicating that the MLP is learning to correctly classify the XOR outputs. The loss function helps track the model's convergence."
   ]
  },
  {
   "cell_type": "markdown",
   "metadata": {},
   "source": [
    "5.2. Decision Boundary Visualization"
   ]
  },
  {
   "cell_type": "code",
   "execution_count": 7,
   "metadata": {},
   "outputs": [
    {
     "data": {
      "image/png": "[encoded data removed]",
      "text/plain": [
       "<Figure size 640x480 with 1 Axes>"
      ]
     },
     "metadata": {},
     "output_type": "display_data"
    },
    {
     "data": {
      "image/png": "[encoded data removed]",
      "text/plain": [
       "<Figure size 640x480 with 1 Axes>"
      ]
     },
     "metadata": {},
     "output_type": "display_data"
    }
   ],
   "source": [
    "def plot_decision_boundary(model_predict, weights, bias=None, title=\"Decision Boundary\", is_mlp=False):\n",
    "    x_min, x_max = X[:, 0].min() - 1, X[:, 0].max() + 1\n",
    "    y_min, y_max = X[:, 1].min() - 1, X[:, 1].max() + 1\n",
    "    xx, yy = np.meshgrid(np.arange(x_min, x_max, 0.1),\n",
    "                         np.arange(y_min, y_max, 0.1))\n",
    "    grid = np.c_[xx.ravel(), yy.ravel()]\n",
    "    \n",
    "    if is_mlp:\n",
    "        # For MLP: Pass all the weights and biases\n",
    "        hidden_weights, hidden_bias, output_weights, output_bias = weights\n",
    "        Z = model_predict(grid, hidden_weights, hidden_bias, output_weights, output_bias)\n",
    "    else:\n",
    "        # For Perceptron: Pass weights and bias\n",
    "        Z = model_predict(grid, weights, bias)\n",
    "    \n",
    "    Z = np.array(Z).reshape(xx.shape)\n",
    "    \n",
    "    plt.contourf(xx, yy, Z, alpha=0.8)\n",
    "    plt.scatter(X[:, 0], X[:, 1], c=y, edgecolors='k', marker='o')\n",
    "    plt.title(title)\n",
    "    plt.xlabel(\"Input A\")\n",
    "    plt.ylabel(\"Input B\")\n",
    "    plt.show()\n",
    "\n",
    "# Plot perceptron decision boundary\n",
    "plot_decision_boundary(perceptron_predict, weights, bias, title=\"Perceptron Decision Boundary\")\n",
    "\n",
    "# Plot MLP decision boundary\n",
    "plot_decision_boundary(mlp_predict, (hidden_weights, hidden_bias, output_weights, output_bias), title=\"MLP Decision Boundary\", is_mlp=True)\n"
   ]
  },
  {
   "cell_type": "markdown",
   "metadata": {},
   "source": [
    "Training Loss over Epochs: This graph will show how the loss decreases as the MLP learns to classify the XOR gate correctly.<br>\n",
    "Decision Boundary: The decision boundary plot visualizes the regions where the model classifies the XOR gate as 0 or 1. The perceptron will fail to separate the classes correctly, while the MLP should produce a non-linear boundary to solve the XOR problem.<br>\n",
    "<br>\n",
    "Explanation:<br>\n",
    "<br>\n",
    "1. The Single Layer Perceptron generates a linear decision boundary, which is incapable of separating the XOR outputs.<br>\n",
    "2. The MLP generates a non-linear decision boundary, successfully classifying the XOR outputs.<br>"
   ]
  },
  {
   "cell_type": "markdown",
   "metadata": {},
   "source": [
    "Conclusion:<br>\n",
    "The XOR gate problem demonstrates the limitations of a Single Layer Perceptron, which cannot solve non-linearly separable problems. By introducing a hidden layer, the Multi-Layer Perceptron can successfully learn and classify XOR outputs, showcasing the importance of deeper architectures in neural networks. The visualizations of the decision boundaries and loss plots help understand the training process and model performance."
   ]
  }
 ],
 "metadata": {
  "kernelspec": {
   "display_name": "Python 3",
   "language": "python",
   "name": "python3"
  },
  "language_info": {
   "codemirror_mode": {
    "name": "ipython",
    "version": 3
   },
   "file_extension": ".py",
   "mimetype": "text/x-python",
   "name": "python",
   "nbconvert_exporter": "python",
   "pygments_lexer": "ipython3",
   "version": "3.11.6"
  }
 },
 "nbformat": 4,
 "nbformat_minor": 2
}
